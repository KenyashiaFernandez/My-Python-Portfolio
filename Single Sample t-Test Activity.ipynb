{
 "cells": [
  {
   "cell_type": "markdown",
   "id": "ec636275-80d4-4485-952f-d95d78f7ba5a",
   "metadata": {},
   "source": [
    "## Import Packages"
   ]
  },
  {
   "cell_type": "code",
   "execution_count": 3,
   "id": "5179efa8-095f-448b-91f8-0569d3978039",
   "metadata": {},
   "outputs": [],
   "source": [
    "import pandas as pd\n",
    "import numpy as np\n",
    "from scipy.stats import norm\n",
    "from scipy import stats"
   ]
  },
  {
   "cell_type": "markdown",
   "id": "e043814e-6135-4867-bae2-2a05af51fe23",
   "metadata": {},
   "source": [
    "## Import Data"
   ]
  },
  {
   "cell_type": "code",
   "execution_count": 4,
   "id": "f23a2bd2-151e-4460-b78b-933a2cf6fa52",
   "metadata": {},
   "outputs": [],
   "source": [
    "hybrid2013 = pd.read_excel(\"/Users/kenyashiafernandez/Documents/GitHub/DS-Student-Resources/DS104-Data-Wrangling-and-Visualization/Data/hybrid2013.xlsx\")"
   ]
  },
  {
   "cell_type": "markdown",
   "id": "f0e41e7a-777b-4f20-aaca-c0ab68d585c6",
   "metadata": {},
   "source": [
    "## Test for Normality"
   ]
  },
  {
   "cell_type": "code",
   "execution_count": 5,
   "id": "6df75aa9-cac5-4bfe-b4f0-9c84f67d449e",
   "metadata": {},
   "outputs": [
    {
     "data": {
      "text/plain": [
       "<AxesSubplot:>"
      ]
     },
     "execution_count": 5,
     "metadata": {},
     "output_type": "execute_result"
    },
    {
     "data": {
      "image/png": "[encoded data removed]",
      "text/plain": [
       "<Figure size 432x288 with 1 Axes>"
      ]
     },
     "metadata": {
      "needs_background": "light"
     },
     "output_type": "display_data"
    }
   ],
   "source": [
    "hybrid2013['mpg'].hist()"
   ]
  },
  {
   "cell_type": "markdown",
   "id": "1c3619e3-5da7-4f39-8906-ac5ad224d128",
   "metadata": {},
   "source": [
    "## Single Sample t-Test"
   ]
  },
  {
   "cell_type": "code",
   "execution_count": 7,
   "id": "949b770d-eae6-419f-a4f8-9753e8a2a9dc",
   "metadata": {},
   "outputs": [
    {
     "data": {
      "text/plain": [
       "Ttest_1sampResult(statistic=-4.427320491687408, pvalue=6.67005084670698e-05)"
      ]
     },
     "execution_count": 7,
     "metadata": {},
     "output_type": "execute_result"
    }
   ],
   "source": [
    "stats.ttest_1samp(hybrid2013['mpg'], 40)"
   ]
  },
  {
   "cell_type": "markdown",
   "id": "225e6d3b-6ea4-4703-bbf5-ff6b541d3d07",
   "metadata": {},
   "source": [
    "## Check the Population Mean"
   ]
  },
  {
   "cell_type": "code",
   "execution_count": 8,
   "id": "7ff8396e-3d82-40cc-96a4-80e873fb9afb",
   "metadata": {},
   "outputs": [
    {
     "data": {
      "text/plain": [
       "33.48837209302326"
      ]
     },
     "execution_count": 8,
     "metadata": {},
     "output_type": "execute_result"
    }
   ],
   "source": [
    "hybrid2013.mpg.mean()"
   ]
  }
 ],
 "metadata": {
  "kernelspec": {
   "display_name": "Python 3 (ipykernel)",
   "language": "python",
   "name": "python3"
  },
  "language_info": {
   "codemirror_mode": {
    "name": "ipython",
    "version": 3
   },
   "file_extension": ".py",
   "mimetype": "text/x-python",
   "name": "python",
   "nbconvert_exporter": "python",
   "pygments_lexer": "ipython3",
   "version": "3.9.10"
  }
 },
 "nbformat": 4,
 "nbformat_minor": 5
}
