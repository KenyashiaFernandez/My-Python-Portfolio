{
 "cells": [
  {
   "cell_type": "markdown",
   "id": "998e085e-45de-466c-bd92-1e4df5cfc482",
   "metadata": {},
   "source": [
    "### Generating random numbers"
   ]
  },
  {
   "cell_type": "code",
   "execution_count": 1,
   "id": "7e373b73-fe08-4a94-8db5-c4408e50f13c",
   "metadata": {},
   "outputs": [],
   "source": [
    "import random"
   ]
  },
  {
   "cell_type": "code",
   "execution_count": 3,
   "id": "09381fc5-9da0-4555-845b-aa926e08f8f4",
   "metadata": {},
   "outputs": [
    {
     "name": "stdout",
     "output_type": "stream",
     "text": [
      "0.21689842457416464\n"
     ]
    }
   ],
   "source": [
    "value = random.random()\n",
    "print(value)"
   ]
  },
  {
   "cell_type": "code",
   "execution_count": 4,
   "id": "2a6ef3d7-a919-450b-8d5b-0e257a19f7de",
   "metadata": {},
   "outputs": [
    {
     "name": "stdout",
     "output_type": "stream",
     "text": [
      "39.87078504682778\n"
     ]
    }
   ],
   "source": [
    "value = random.uniform(30, 50)\n",
    "print(value)"
   ]
  },
  {
   "cell_type": "markdown",
   "id": "2b392796-ec95-4985-b48b-605ba46ffc8b",
   "metadata": {},
   "source": [
    "### Random numbers - Normal distribution"
   ]
  },
  {
   "cell_type": "code",
   "execution_count": 6,
   "id": "31d8a5ae-3b72-42b1-a67b-cba93fe8599e",
   "metadata": {},
   "outputs": [],
   "source": [
    "import numpy as np\n"
   ]
  },
  {
   "cell_type": "code",
   "execution_count": 7,
   "id": "55dc034c-394b-4909-9adf-e4d073d92955",
   "metadata": {},
   "outputs": [],
   "source": [
    "x = np.random.normal(size = 5)"
   ]
  },
  {
   "cell_type": "code",
   "execution_count": 8,
   "id": "53c4a402-fdbc-4db4-b813-e8b522a68178",
   "metadata": {},
   "outputs": [
    {
     "name": "stdout",
     "output_type": "stream",
     "text": [
      "[-1.24998855  0.0805609   0.26577462  0.53691783 -0.47341711]\n"
     ]
    }
   ],
   "source": [
    "print(x)"
   ]
  },
  {
   "cell_type": "markdown",
   "id": "f8c0854b-2029-431b-97b9-5df953619721",
   "metadata": {},
   "source": [
    "### Normal distribution centered elsewhere"
   ]
  },
  {
   "cell_type": "code",
   "execution_count": 9,
   "id": "2ae722c7-3edb-453c-ab73-58bbec796f0b",
   "metadata": {},
   "outputs": [
    {
     "name": "stdout",
     "output_type": "stream",
     "text": [
      "[41.85052106 42.90879583 56.34544293 48.1126253  47.68469402]\n"
     ]
    }
   ],
   "source": [
    "x = (np.random.normal(size=5))*10 + 50\n",
    "print(x)"
   ]
  },
  {
   "cell_type": "code",
   "execution_count": null,
   "id": "748b40c9-8cb7-4ec7-9a43-c581f740f50f",
   "metadata": {},
   "outputs": [],
   "source": []
  }
 ],
 "metadata": {
  "kernelspec": {
   "display_name": "Python 3 (ipykernel)",
   "language": "python",
   "name": "python3"
  },
  "language_info": {
   "codemirror_mode": {
    "name": "ipython",
    "version": 3
   },
   "file_extension": ".py",
   "mimetype": "text/x-python",
   "name": "python",
   "nbconvert_exporter": "python",
   "pygments_lexer": "ipython3",
   "version": "3.9.10"
  }
 },
 "nbformat": 4,
 "nbformat_minor": 5
}
