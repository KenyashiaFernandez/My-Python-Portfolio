{
 "cells": [
  {
   "cell_type": "markdown",
   "id": "49c3d6a5-3e85-4d9a-9107-3cd73ed56377",
   "metadata": {},
   "source": [
    "## Import Packages"
   ]
  },
  {
   "cell_type": "code",
   "execution_count": 1,
   "id": "ceacc432-aab4-4916-92c9-466d3b51826d",
   "metadata": {},
   "outputs": [],
   "source": [
    "import pandas as pd\n",
    "import numpy as np\n",
    "import scipy\n",
    "from scipy import stats\n",
    "from statsmodels.stats.multicomp import pairwise_tukeyhsd\n",
    "from statsmodels.stats.multicomp import MultiComparison\n",
    "import seaborn as sns"
   ]
  },
  {
   "cell_type": "markdown",
   "id": "68284fb1-e779-4a58-9ca7-30e21cc5708a",
   "metadata": {},
   "source": [
    "## Load Data"
   ]
  },
  {
   "cell_type": "code",
   "execution_count": 2,
   "id": "5c172443-906f-4665-8ad4-6f233cca545e",
   "metadata": {},
   "outputs": [],
   "source": [
    "avocados = pd.read_csv(\"/Users/kenyashiafernandez/Downloads/avocados.csv\")"
   ]
  },
  {
   "cell_type": "code",
   "execution_count": 3,
   "id": "c59d1543-6e00-4fe7-8962-f305fc5028c3",
   "metadata": {},
   "outputs": [
    {
     "data": {
      "text/html": [
       "<div>\n",
       "<style scoped>\n",
       "    .dataframe tbody tr th:only-of-type {\n",
       "        vertical-align: middle;\n",
       "    }\n",
       "\n",
       "    .dataframe tbody tr th {\n",
       "        vertical-align: top;\n",
       "    }\n",
       "\n",
       "    .dataframe thead th {\n",
       "        text-align: right;\n",
       "    }\n",
       "</style>\n",
       "<table border=\"1\" class=\"dataframe\">\n",
       "  <thead>\n",
       "    <tr style=\"text-align: right;\">\n",
       "      <th></th>\n",
       "      <th>Unnamed: 0</th>\n",
       "      <th>Date</th>\n",
       "      <th>AveragePrice</th>\n",
       "      <th>Total Volume</th>\n",
       "      <th>4046</th>\n",
       "      <th>4225</th>\n",
       "      <th>4770</th>\n",
       "      <th>Total Bags</th>\n",
       "      <th>Small Bags</th>\n",
       "      <th>Large Bags</th>\n",
       "      <th>XLarge Bags</th>\n",
       "      <th>type</th>\n",
       "      <th>year</th>\n",
       "      <th>region</th>\n",
       "    </tr>\n",
       "  </thead>\n",
       "  <tbody>\n",
       "    <tr>\n",
       "      <th>0</th>\n",
       "      <td>0</td>\n",
       "      <td>12/27/2015</td>\n",
       "      <td>1.33</td>\n",
       "      <td>64236.62</td>\n",
       "      <td>1036.74</td>\n",
       "      <td>54454.85</td>\n",
       "      <td>48.16</td>\n",
       "      <td>8696.87</td>\n",
       "      <td>8603.62</td>\n",
       "      <td>93.25</td>\n",
       "      <td>0.0</td>\n",
       "      <td>conventional</td>\n",
       "      <td>2015</td>\n",
       "      <td>Albany</td>\n",
       "    </tr>\n",
       "    <tr>\n",
       "      <th>1</th>\n",
       "      <td>1</td>\n",
       "      <td>12/20/2015</td>\n",
       "      <td>1.35</td>\n",
       "      <td>54876.98</td>\n",
       "      <td>674.28</td>\n",
       "      <td>44638.81</td>\n",
       "      <td>58.33</td>\n",
       "      <td>9505.56</td>\n",
       "      <td>9408.07</td>\n",
       "      <td>97.49</td>\n",
       "      <td>0.0</td>\n",
       "      <td>conventional</td>\n",
       "      <td>2015</td>\n",
       "      <td>Albany</td>\n",
       "    </tr>\n",
       "    <tr>\n",
       "      <th>2</th>\n",
       "      <td>2</td>\n",
       "      <td>12/13/2015</td>\n",
       "      <td>0.93</td>\n",
       "      <td>118220.22</td>\n",
       "      <td>794.70</td>\n",
       "      <td>109149.67</td>\n",
       "      <td>130.50</td>\n",
       "      <td>8145.35</td>\n",
       "      <td>8042.21</td>\n",
       "      <td>103.14</td>\n",
       "      <td>0.0</td>\n",
       "      <td>conventional</td>\n",
       "      <td>2015</td>\n",
       "      <td>Albany</td>\n",
       "    </tr>\n",
       "    <tr>\n",
       "      <th>3</th>\n",
       "      <td>3</td>\n",
       "      <td>12/6/2015</td>\n",
       "      <td>1.08</td>\n",
       "      <td>78992.15</td>\n",
       "      <td>1132.00</td>\n",
       "      <td>71976.41</td>\n",
       "      <td>72.58</td>\n",
       "      <td>5811.16</td>\n",
       "      <td>5677.40</td>\n",
       "      <td>133.76</td>\n",
       "      <td>0.0</td>\n",
       "      <td>conventional</td>\n",
       "      <td>2015</td>\n",
       "      <td>Albany</td>\n",
       "    </tr>\n",
       "    <tr>\n",
       "      <th>4</th>\n",
       "      <td>4</td>\n",
       "      <td>11/29/2015</td>\n",
       "      <td>1.28</td>\n",
       "      <td>51039.60</td>\n",
       "      <td>941.48</td>\n",
       "      <td>43838.39</td>\n",
       "      <td>75.78</td>\n",
       "      <td>6183.95</td>\n",
       "      <td>5986.26</td>\n",
       "      <td>197.69</td>\n",
       "      <td>0.0</td>\n",
       "      <td>conventional</td>\n",
       "      <td>2015</td>\n",
       "      <td>Albany</td>\n",
       "    </tr>\n",
       "  </tbody>\n",
       "</table>\n",
       "</div>"
      ],
      "text/plain": [
       "   Unnamed: 0        Date  AveragePrice  Total Volume     4046       4225  \\\n",
       "0           0  12/27/2015          1.33      64236.62  1036.74   54454.85   \n",
       "1           1  12/20/2015          1.35      54876.98   674.28   44638.81   \n",
       "2           2  12/13/2015          0.93     118220.22   794.70  109149.67   \n",
       "3           3   12/6/2015          1.08      78992.15  1132.00   71976.41   \n",
       "4           4  11/29/2015          1.28      51039.60   941.48   43838.39   \n",
       "\n",
       "     4770  Total Bags  Small Bags  Large Bags  XLarge Bags          type  \\\n",
       "0   48.16     8696.87     8603.62       93.25          0.0  conventional   \n",
       "1   58.33     9505.56     9408.07       97.49          0.0  conventional   \n",
       "2  130.50     8145.35     8042.21      103.14          0.0  conventional   \n",
       "3   72.58     5811.16     5677.40      133.76          0.0  conventional   \n",
       "4   75.78     6183.95     5986.26      197.69          0.0  conventional   \n",
       "\n",
       "   year  region  \n",
       "0  2015  Albany  \n",
       "1  2015  Albany  \n",
       "2  2015  Albany  \n",
       "3  2015  Albany  \n",
       "4  2015  Albany  "
      ]
     },
     "execution_count": 3,
     "metadata": {},
     "output_type": "execute_result"
    }
   ],
   "source": [
    "avocados.head()"
   ]
  },
  {
   "cell_type": "markdown",
   "id": "a47eaf60-f8b4-4718-8433-55c1f918e94a",
   "metadata": {},
   "source": [
    "## Does the total volume of avocados sold differ between Indianapolis, Orlando, and PhoenixTucson?"
   ]
  },
  {
   "cell_type": "markdown",
   "id": "db4086a6-d2af-42a6-bae9-f72b2907b74d",
   "metadata": {},
   "source": [
    "## Data Wrangling"
   ]
  },
  {
   "cell_type": "code",
   "execution_count": 4,
   "id": "6c90ed06-26ec-448c-8ef1-651fef9637ce",
   "metadata": {},
   "outputs": [],
   "source": [
    "regions = [\"Chicago\", \"Tulsa\", \"PhoenixTucson\"]"
   ]
  },
  {
   "cell_type": "code",
   "execution_count": 6,
   "id": "d52de734-bbeb-4d99-b8c5-720b79e7e155",
   "metadata": {},
   "outputs": [],
   "source": [
    "avocados1 = avocados[\"region\"].isin(regions)"
   ]
  },
  {
   "cell_type": "code",
   "execution_count": 7,
   "id": "6bff1bdc-cbe3-48ba-950b-eda79b4008cf",
   "metadata": {},
   "outputs": [],
   "source": [
    "avocados2 = avocados[avocados1].copy()"
   ]
  },
  {
   "cell_type": "code",
   "execution_count": 8,
   "id": "cf4dd0c1-58d1-4ff4-954c-73e33e258049",
   "metadata": {},
   "outputs": [
    {
     "data": {
      "text/html": [
       "<div>\n",
       "<style scoped>\n",
       "    .dataframe tbody tr th:only-of-type {\n",
       "        vertical-align: middle;\n",
       "    }\n",
       "\n",
       "    .dataframe tbody tr th {\n",
       "        vertical-align: top;\n",
       "    }\n",
       "\n",
       "    .dataframe thead th {\n",
       "        text-align: right;\n",
       "    }\n",
       "</style>\n",
       "<table border=\"1\" class=\"dataframe\">\n",
       "  <thead>\n",
       "    <tr style=\"text-align: right;\">\n",
       "      <th></th>\n",
       "      <th>Unnamed: 0</th>\n",
       "      <th>Date</th>\n",
       "      <th>AveragePrice</th>\n",
       "      <th>Total Volume</th>\n",
       "      <th>4046</th>\n",
       "      <th>4225</th>\n",
       "      <th>4770</th>\n",
       "      <th>Total Bags</th>\n",
       "      <th>Small Bags</th>\n",
       "      <th>Large Bags</th>\n",
       "      <th>XLarge Bags</th>\n",
       "      <th>type</th>\n",
       "      <th>year</th>\n",
       "      <th>region</th>\n",
       "    </tr>\n",
       "  </thead>\n",
       "  <tbody>\n",
       "    <tr>\n",
       "      <th>416</th>\n",
       "      <td>0</td>\n",
       "      <td>12/27/2015</td>\n",
       "      <td>0.93</td>\n",
       "      <td>661137.13</td>\n",
       "      <td>42799.00</td>\n",
       "      <td>445218.79</td>\n",
       "      <td>78378.25</td>\n",
       "      <td>94741.09</td>\n",
       "      <td>83066.75</td>\n",
       "      <td>1617.67</td>\n",
       "      <td>10056.67</td>\n",
       "      <td>conventional</td>\n",
       "      <td>2015</td>\n",
       "      <td>Chicago</td>\n",
       "    </tr>\n",
       "    <tr>\n",
       "      <th>417</th>\n",
       "      <td>1</td>\n",
       "      <td>12/20/2015</td>\n",
       "      <td>0.91</td>\n",
       "      <td>690669.34</td>\n",
       "      <td>35724.99</td>\n",
       "      <td>464574.15</td>\n",
       "      <td>96306.30</td>\n",
       "      <td>94063.90</td>\n",
       "      <td>76241.25</td>\n",
       "      <td>9592.65</td>\n",
       "      <td>8230.00</td>\n",
       "      <td>conventional</td>\n",
       "      <td>2015</td>\n",
       "      <td>Chicago</td>\n",
       "    </tr>\n",
       "    <tr>\n",
       "      <th>418</th>\n",
       "      <td>2</td>\n",
       "      <td>12/13/2015</td>\n",
       "      <td>1.07</td>\n",
       "      <td>668601.50</td>\n",
       "      <td>40380.09</td>\n",
       "      <td>451470.42</td>\n",
       "      <td>94162.53</td>\n",
       "      <td>82588.46</td>\n",
       "      <td>76829.42</td>\n",
       "      <td>5693.75</td>\n",
       "      <td>65.29</td>\n",
       "      <td>conventional</td>\n",
       "      <td>2015</td>\n",
       "      <td>Chicago</td>\n",
       "    </tr>\n",
       "    <tr>\n",
       "      <th>419</th>\n",
       "      <td>3</td>\n",
       "      <td>12/6/2015</td>\n",
       "      <td>1.14</td>\n",
       "      <td>664020.49</td>\n",
       "      <td>53173.18</td>\n",
       "      <td>455048.11</td>\n",
       "      <td>92888.37</td>\n",
       "      <td>62910.83</td>\n",
       "      <td>62473.12</td>\n",
       "      <td>420.95</td>\n",
       "      <td>16.76</td>\n",
       "      <td>conventional</td>\n",
       "      <td>2015</td>\n",
       "      <td>Chicago</td>\n",
       "    </tr>\n",
       "    <tr>\n",
       "      <th>420</th>\n",
       "      <td>4</td>\n",
       "      <td>11/29/2015</td>\n",
       "      <td>1.11</td>\n",
       "      <td>602481.22</td>\n",
       "      <td>42851.47</td>\n",
       "      <td>422479.32</td>\n",
       "      <td>74988.97</td>\n",
       "      <td>62161.46</td>\n",
       "      <td>61862.57</td>\n",
       "      <td>298.89</td>\n",
       "      <td>0.00</td>\n",
       "      <td>conventional</td>\n",
       "      <td>2015</td>\n",
       "      <td>Chicago</td>\n",
       "    </tr>\n",
       "  </tbody>\n",
       "</table>\n",
       "</div>"
      ],
      "text/plain": [
       "     Unnamed: 0        Date  AveragePrice  Total Volume      4046       4225  \\\n",
       "416           0  12/27/2015          0.93     661137.13  42799.00  445218.79   \n",
       "417           1  12/20/2015          0.91     690669.34  35724.99  464574.15   \n",
       "418           2  12/13/2015          1.07     668601.50  40380.09  451470.42   \n",
       "419           3   12/6/2015          1.14     664020.49  53173.18  455048.11   \n",
       "420           4  11/29/2015          1.11     602481.22  42851.47  422479.32   \n",
       "\n",
       "         4770  Total Bags  Small Bags  Large Bags  XLarge Bags          type  \\\n",
       "416  78378.25    94741.09    83066.75     1617.67     10056.67  conventional   \n",
       "417  96306.30    94063.90    76241.25     9592.65      8230.00  conventional   \n",
       "418  94162.53    82588.46    76829.42     5693.75        65.29  conventional   \n",
       "419  92888.37    62910.83    62473.12      420.95        16.76  conventional   \n",
       "420  74988.97    62161.46    61862.57      298.89         0.00  conventional   \n",
       "\n",
       "     year   region  \n",
       "416  2015  Chicago  \n",
       "417  2015  Chicago  \n",
       "418  2015  Chicago  \n",
       "419  2015  Chicago  \n",
       "420  2015  Chicago  "
      ]
     },
     "execution_count": 8,
     "metadata": {},
     "output_type": "execute_result"
    }
   ],
   "source": [
    "avocados2.head()"
   ]
  },
  {
   "cell_type": "code",
   "execution_count": 9,
   "id": "68fe37bb-f3ec-472a-8bfd-b636f492a275",
   "metadata": {},
   "outputs": [
    {
     "data": {
      "text/plain": [
       "Chicago          338\n",
       "PhoenixTucson    338\n",
       "Name: region, dtype: int64"
      ]
     },
     "execution_count": 9,
     "metadata": {},
     "output_type": "execute_result"
    }
   ],
   "source": [
    "avocados2.region.value_counts()"
   ]
  },
  {
   "cell_type": "markdown",
   "id": "16efdc6e-e037-4ea0-ac25-94f2d7498d56",
   "metadata": {},
   "source": [
    "## Recode Categorical Variables"
   ]
  },
  {
   "cell_type": "code",
   "execution_count": 10,
   "id": "975962fc-7617-4bdf-ad5e-e5144c416429",
   "metadata": {},
   "outputs": [],
   "source": [
    "dict = {'Chicago' : 0, 'Tulsa' : 1, 'PhoenixTucson' : 2}"
   ]
  },
  {
   "cell_type": "code",
   "execution_count": 11,
   "id": "19c8fa36-ff3b-476d-abff-077885692ffd",
   "metadata": {},
   "outputs": [],
   "source": [
    "avocados2['region'] = avocados2.region.replace(dict)"
   ]
  },
  {
   "cell_type": "code",
   "execution_count": 12,
   "id": "2985be0f-602e-41d5-a6af-679760c3eef2",
   "metadata": {},
   "outputs": [
    {
     "data": {
      "text/html": [
       "<div>\n",
       "<style scoped>\n",
       "    .dataframe tbody tr th:only-of-type {\n",
       "        vertical-align: middle;\n",
       "    }\n",
       "\n",
       "    .dataframe tbody tr th {\n",
       "        vertical-align: top;\n",
       "    }\n",
       "\n",
       "    .dataframe thead th {\n",
       "        text-align: right;\n",
       "    }\n",
       "</style>\n",
       "<table border=\"1\" class=\"dataframe\">\n",
       "  <thead>\n",
       "    <tr style=\"text-align: right;\">\n",
       "      <th></th>\n",
       "      <th>Unnamed: 0</th>\n",
       "      <th>Date</th>\n",
       "      <th>AveragePrice</th>\n",
       "      <th>Total Volume</th>\n",
       "      <th>4046</th>\n",
       "      <th>4225</th>\n",
       "      <th>4770</th>\n",
       "      <th>Total Bags</th>\n",
       "      <th>Small Bags</th>\n",
       "      <th>Large Bags</th>\n",
       "      <th>XLarge Bags</th>\n",
       "      <th>type</th>\n",
       "      <th>year</th>\n",
       "      <th>region</th>\n",
       "    </tr>\n",
       "  </thead>\n",
       "  <tbody>\n",
       "    <tr>\n",
       "      <th>416</th>\n",
       "      <td>0</td>\n",
       "      <td>12/27/2015</td>\n",
       "      <td>0.93</td>\n",
       "      <td>661137.13</td>\n",
       "      <td>42799.00</td>\n",
       "      <td>445218.79</td>\n",
       "      <td>78378.25</td>\n",
       "      <td>94741.09</td>\n",
       "      <td>83066.75</td>\n",
       "      <td>1617.67</td>\n",
       "      <td>10056.67</td>\n",
       "      <td>conventional</td>\n",
       "      <td>2015</td>\n",
       "      <td>0</td>\n",
       "    </tr>\n",
       "    <tr>\n",
       "      <th>417</th>\n",
       "      <td>1</td>\n",
       "      <td>12/20/2015</td>\n",
       "      <td>0.91</td>\n",
       "      <td>690669.34</td>\n",
       "      <td>35724.99</td>\n",
       "      <td>464574.15</td>\n",
       "      <td>96306.30</td>\n",
       "      <td>94063.90</td>\n",
       "      <td>76241.25</td>\n",
       "      <td>9592.65</td>\n",
       "      <td>8230.00</td>\n",
       "      <td>conventional</td>\n",
       "      <td>2015</td>\n",
       "      <td>0</td>\n",
       "    </tr>\n",
       "    <tr>\n",
       "      <th>418</th>\n",
       "      <td>2</td>\n",
       "      <td>12/13/2015</td>\n",
       "      <td>1.07</td>\n",
       "      <td>668601.50</td>\n",
       "      <td>40380.09</td>\n",
       "      <td>451470.42</td>\n",
       "      <td>94162.53</td>\n",
       "      <td>82588.46</td>\n",
       "      <td>76829.42</td>\n",
       "      <td>5693.75</td>\n",
       "      <td>65.29</td>\n",
       "      <td>conventional</td>\n",
       "      <td>2015</td>\n",
       "      <td>0</td>\n",
       "    </tr>\n",
       "    <tr>\n",
       "      <th>419</th>\n",
       "      <td>3</td>\n",
       "      <td>12/6/2015</td>\n",
       "      <td>1.14</td>\n",
       "      <td>664020.49</td>\n",
       "      <td>53173.18</td>\n",
       "      <td>455048.11</td>\n",
       "      <td>92888.37</td>\n",
       "      <td>62910.83</td>\n",
       "      <td>62473.12</td>\n",
       "      <td>420.95</td>\n",
       "      <td>16.76</td>\n",
       "      <td>conventional</td>\n",
       "      <td>2015</td>\n",
       "      <td>0</td>\n",
       "    </tr>\n",
       "    <tr>\n",
       "      <th>420</th>\n",
       "      <td>4</td>\n",
       "      <td>11/29/2015</td>\n",
       "      <td>1.11</td>\n",
       "      <td>602481.22</td>\n",
       "      <td>42851.47</td>\n",
       "      <td>422479.32</td>\n",
       "      <td>74988.97</td>\n",
       "      <td>62161.46</td>\n",
       "      <td>61862.57</td>\n",
       "      <td>298.89</td>\n",
       "      <td>0.00</td>\n",
       "      <td>conventional</td>\n",
       "      <td>2015</td>\n",
       "      <td>0</td>\n",
       "    </tr>\n",
       "  </tbody>\n",
       "</table>\n",
       "</div>"
      ],
      "text/plain": [
       "     Unnamed: 0        Date  AveragePrice  Total Volume      4046       4225  \\\n",
       "416           0  12/27/2015          0.93     661137.13  42799.00  445218.79   \n",
       "417           1  12/20/2015          0.91     690669.34  35724.99  464574.15   \n",
       "418           2  12/13/2015          1.07     668601.50  40380.09  451470.42   \n",
       "419           3   12/6/2015          1.14     664020.49  53173.18  455048.11   \n",
       "420           4  11/29/2015          1.11     602481.22  42851.47  422479.32   \n",
       "\n",
       "         4770  Total Bags  Small Bags  Large Bags  XLarge Bags          type  \\\n",
       "416  78378.25    94741.09    83066.75     1617.67     10056.67  conventional   \n",
       "417  96306.30    94063.90    76241.25     9592.65      8230.00  conventional   \n",
       "418  94162.53    82588.46    76829.42     5693.75        65.29  conventional   \n",
       "419  92888.37    62910.83    62473.12      420.95        16.76  conventional   \n",
       "420  74988.97    62161.46    61862.57      298.89         0.00  conventional   \n",
       "\n",
       "     year  region  \n",
       "416  2015       0  \n",
       "417  2015       0  \n",
       "418  2015       0  \n",
       "419  2015       0  \n",
       "420  2015       0  "
      ]
     },
     "execution_count": 12,
     "metadata": {},
     "output_type": "execute_result"
    }
   ],
   "source": [
    "avocados2.head()"
   ]
  },
  {
   "cell_type": "code",
   "execution_count": 13,
   "id": "43b6953c-3a2b-4da1-b7ec-669e5bfc75c3",
   "metadata": {},
   "outputs": [
    {
     "data": {
      "text/plain": [
       "0    338\n",
       "2    338\n",
       "Name: region, dtype: int64"
      ]
     },
     "execution_count": 13,
     "metadata": {},
     "output_type": "execute_result"
    }
   ],
   "source": [
    "avocados2.region.value_counts()"
   ]
  },
  {
   "cell_type": "markdown",
   "id": "b5d76374-8e73-4a0d-997f-1dc1ef5d2dbd",
   "metadata": {},
   "source": [
    "## Assumptions"
   ]
  },
  {
   "cell_type": "markdown",
   "id": "a184a4f2-9e1e-42ad-9cc2-9394038d7fe2",
   "metadata": {},
   "source": [
    "### Normaility "
   ]
  },
  {
   "cell_type": "code",
   "execution_count": 15,
   "id": "63da822f-8739-4895-965d-822c9816c82d",
   "metadata": {},
   "outputs": [
    {
     "data": {
      "text/plain": [
       "<seaborn.axisgrid.FacetGrid at 0x17529e7c0>"
      ]
     },
     "execution_count": 15,
     "metadata": {},
     "output_type": "execute_result"
    },
    {
     "data": {
      "image/png": "[encoded data removed]",
      "text/plain": [
       "<Figure size 500x500 with 1 Axes>"
      ]
     },
     "metadata": {},
     "output_type": "display_data"
    }
   ],
   "source": [
    "sns.displot(avocados2['Total Volume'], kde = True)"
   ]
  },
  {
   "cell_type": "code",
   "execution_count": 16,
   "id": "e957d4f4-5546-4d44-922a-1569fca719b8",
   "metadata": {},
   "outputs": [],
   "source": [
    "avocados2['TVsqrt'] = np.sqrt(avocados2['Total Volume'])"
   ]
  },
  {
   "cell_type": "code",
   "execution_count": 17,
   "id": "572fc361-3100-45e0-a325-232991f03115",
   "metadata": {},
   "outputs": [
    {
     "data": {
      "text/plain": [
       "<seaborn.axisgrid.FacetGrid at 0x17749fd30>"
      ]
     },
     "execution_count": 17,
     "metadata": {},
     "output_type": "execute_result"
    },
    {
     "data": {
      "image/png": "[encoded data removed]",
      "text/plain": [
       "<Figure size 500x500 with 1 Axes>"
      ]
     },
     "metadata": {},
     "output_type": "display_data"
    }
   ],
   "source": [
    "sns.displot(avocados2['TVsqrt'], kde = True)"
   ]
  },
  {
   "cell_type": "code",
   "execution_count": 18,
   "id": "b778c593-6790-4c8d-92d9-07c38dd788aa",
   "metadata": {},
   "outputs": [],
   "source": [
    "avocados2['TVlog'] = np.log(avocados2['Total Volume'])"
   ]
  },
  {
   "cell_type": "code",
   "execution_count": 20,
   "id": "edfb8985-3f6f-4c51-a3d4-1faa078e2cb3",
   "metadata": {},
   "outputs": [
    {
     "data": {
      "text/plain": [
       "<seaborn.axisgrid.FacetGrid at 0x177617040>"
      ]
     },
     "execution_count": 20,
     "metadata": {},
     "output_type": "execute_result"
    },
    {
     "data": {
      "image/png": "[encoded data removed]",
      "text/plain": [
       "<Figure size 500x500 with 1 Axes>"
      ]
     },
     "metadata": {},
     "output_type": "display_data"
    }
   ],
   "source": [
    "sns.displot(avocados2['TVlog'], kde = True)"
   ]
  },
  {
   "cell_type": "markdown",
   "id": "9e1b7351-77be-47da-8643-8bb0226e87fd",
   "metadata": {},
   "source": [
    "## Homogeneity of variance"
   ]
  },
  {
   "cell_type": "code",
   "execution_count": 22,
   "id": "8040c0f1-443c-4a77-86b8-2cb2159b356e",
   "metadata": {},
   "outputs": [
    {
     "data": {
      "text/plain": [
       "BartlettResult(statistic=305.1918910336536, pvalue=2.43593064589131e-68)"
      ]
     },
     "execution_count": 22,
     "metadata": {},
     "output_type": "execute_result"
    }
   ],
   "source": [
    "scipy.stats.bartlett(avocados2[\"TVlog\"], avocados2[\"region\"])"
   ]
  },
  {
   "cell_type": "markdown",
   "id": "cd379402-d051-4013-bbc1-a367f5ea0225",
   "metadata": {},
   "source": [
    "## ANOVA"
   ]
  },
  {
   "cell_type": "code",
   "execution_count": 23,
   "id": "ad2d17ad-d591-4104-b60f-e1ecd9ed1a9d",
   "metadata": {},
   "outputs": [
    {
     "name": "stderr",
     "output_type": "stream",
     "text": [
      "/opt/homebrew/Cellar/jupyterlab/3.2.9/libexec/lib/python3.9/site-packages/scipy/stats/_stats_py.py:3630: F_onewayBadInputSizesWarning: at least one input has length 0\n",
      "  warnings.warn(F_onewayBadInputSizesWarning('at least one input '\n"
     ]
    },
    {
     "data": {
      "text/plain": [
       "F_onewayResult(statistic=nan, pvalue=nan)"
      ]
     },
     "execution_count": 23,
     "metadata": {},
     "output_type": "execute_result"
    }
   ],
   "source": [
    "stats.f_oneway(avocados[\"Total Volume\"][avocados[\"region\"]=='Chicago'],\n",
    "                    avocados[\"Total Volume\"][avocados[\"region\"]=='Tulsa'],\n",
    "                    avocados[\"Total Volume\"][avocados[\"region\"]=='PhoenixTucson'])\n",
    "## appears to be significant difference with that p-value"
   ]
  },
  {
   "cell_type": "code",
   "execution_count": 26,
   "id": "bb048a90-fbb8-4170-a4d9-d9ec579128eb",
   "metadata": {},
   "outputs": [
    {
     "name": "stdout",
     "output_type": "stream",
     "text": [
      "Multiple Comparison of Means - Tukey HSD, FWER=0.05\n",
      "==================================================\n",
      "group1 group2 meandiff p-adj   lower  upper reject\n",
      "--------------------------------------------------\n",
      "     0      2  -0.2654 0.0863 -0.5688 0.038  False\n",
      "--------------------------------------------------\n"
     ]
    }
   ],
   "source": [
    "postHoc = MultiComparison(avocados2[\"TVlog\"], avocados2[\"region\"])\n",
    "postHocResults = postHoc.tukeyhsd()\n",
    "print(postHocResults)\n",
    "## reject the null hypothesis for all"
   ]
  },
  {
   "cell_type": "code",
   "execution_count": 27,
   "id": "240ae287-3cf6-4c03-b573-49d7bfd733fc",
   "metadata": {},
   "outputs": [],
   "source": [
    "avocados3 = avocados2[['region', 'Total Volume']]"
   ]
  },
  {
   "cell_type": "code",
   "execution_count": 28,
   "id": "5d36b7b4-69a0-4e99-a2c3-248dc0f5f4e7",
   "metadata": {},
   "outputs": [
    {
     "data": {
      "text/html": [
       "<div>\n",
       "<style scoped>\n",
       "    .dataframe tbody tr th:only-of-type {\n",
       "        vertical-align: middle;\n",
       "    }\n",
       "\n",
       "    .dataframe tbody tr th {\n",
       "        vertical-align: top;\n",
       "    }\n",
       "\n",
       "    .dataframe thead th {\n",
       "        text-align: right;\n",
       "    }\n",
       "</style>\n",
       "<table border=\"1\" class=\"dataframe\">\n",
       "  <thead>\n",
       "    <tr style=\"text-align: right;\">\n",
       "      <th></th>\n",
       "      <th>Total Volume</th>\n",
       "    </tr>\n",
       "    <tr>\n",
       "      <th>region</th>\n",
       "      <th></th>\n",
       "    </tr>\n",
       "  </thead>\n",
       "  <tbody>\n",
       "    <tr>\n",
       "      <th>0</th>\n",
       "      <td>395569.048846</td>\n",
       "    </tr>\n",
       "    <tr>\n",
       "      <th>2</th>\n",
       "      <td>578826.368343</td>\n",
       "    </tr>\n",
       "  </tbody>\n",
       "</table>\n",
       "</div>"
      ],
      "text/plain": [
       "         Total Volume\n",
       "region               \n",
       "0       395569.048846\n",
       "2       578826.368343"
      ]
     },
     "execution_count": 28,
     "metadata": {},
     "output_type": "execute_result"
    }
   ],
   "source": [
    "avocados3.groupby(\"region\").mean()"
   ]
  },
  {
   "cell_type": "markdown",
   "id": "87204cae-0e97-4ef6-bcb5-9cbfbf6fe1df",
   "metadata": {},
   "source": [
    "## PhoenixTucson has the highest total volume, with Chicago having the least total volume of the three."
   ]
  },
  {
   "cell_type": "code",
   "execution_count": null,
   "id": "a0912bd7-f74a-4a60-a4cd-1ff163ac7db2",
   "metadata": {},
   "outputs": [],
   "source": []
  }
 ],
 "metadata": {
  "kernelspec": {
   "display_name": "Python 3 (ipykernel)",
   "language": "python",
   "name": "python3"
  },
  "language_info": {
   "codemirror_mode": {
    "name": "ipython",
    "version": 3
   },
   "file_extension": ".py",
   "mimetype": "text/x-python",
   "name": "python",
   "nbconvert_exporter": "python",
   "pygments_lexer": "ipython3",
   "version": "3.9.10"
  }
 },
 "nbformat": 4,
 "nbformat_minor": 5
}
