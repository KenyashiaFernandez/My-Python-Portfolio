{
 "cells": [
  {
   "cell_type": "markdown",
   "id": "14375ef2-561d-4235-8a04-a86cdec8385d",
   "metadata": {},
   "source": [
    "## Import Packages"
   ]
  },
  {
   "cell_type": "code",
   "execution_count": 1,
   "id": "06f2e65c-4737-4579-b8f9-6bba5c278926",
   "metadata": {},
   "outputs": [],
   "source": [
    "import pandas as pd\n",
    "from scipy import stats"
   ]
  },
  {
   "cell_type": "markdown",
   "id": "72214248-1b49-4d0a-b900-0c602771bde7",
   "metadata": {},
   "source": [
    "## Import Data"
   ]
  },
  {
   "cell_type": "code",
   "execution_count": 7,
   "id": "ddb683cd-8761-4db5-8df0-b2ead7165900",
   "metadata": {},
   "outputs": [],
   "source": [
    "lead_lipstick = pd.read_csv(\"/Users/kenyashiafernandez/Documents/GitHub/DS-Student-Resources/DS104-Data-Wrangling-and-Visualization/Data/lead_lipstick.csv\")"
   ]
  },
  {
   "cell_type": "code",
   "execution_count": 8,
   "id": "8e86ffcd-5e7e-436b-b1ff-c0e79c8f911a",
   "metadata": {},
   "outputs": [
    {
     "data": {
      "text/plain": [
       "<bound method NDFrame.head of     JRC_code purchCntry prodCntry    Pb  sdPb  shade prodType  priceCatgry\n",
       "0       C135         NL        NL  3.75  0.24    Red       LP            2\n",
       "1        C18         FI        FI  2.29  0.07    Red       LP            2\n",
       "2        C20         FI        IT  1.27  0.06    Red       LP            2\n",
       "3       C164         DE        FR  1.21  0.06    Red       LP            2\n",
       "4        C71         MT        UK  0.85  0.04    Red       LP            2\n",
       "..       ...        ...       ...   ...   ...    ...      ...          ...\n",
       "218     C108         IT        IT  0.24  0.01  Brown       LG            1\n",
       "219      C52         FR        FR  0.23  0.01  Brown       LG            2\n",
       "220      C14         PL        FR  0.19  0.01  Brown       LG            2\n",
       "221      C32         EL        DE  0.09  0.01  Brown       LG            1\n",
       "222     C124         AT        FR  0.04  0.01  Brown       LG            2\n",
       "\n",
       "[223 rows x 8 columns]>"
      ]
     },
     "execution_count": 8,
     "metadata": {},
     "output_type": "execute_result"
    }
   ],
   "source": [
    "lead_lipstick.head"
   ]
  },
  {
   "cell_type": "markdown",
   "id": "bbf8eca5-08be-4d26-9a97-7e7e266bace0",
   "metadata": {},
   "source": [
    "## Create a Contingency Table"
   ]
  },
  {
   "cell_type": "code",
   "execution_count": 11,
   "id": "3e383e84-b3cf-49d1-a977-5f18ad93b8f1",
   "metadata": {},
   "outputs": [],
   "source": [
    "lipstick2_crosstab = pd.crosstab(lipstick['shade'], lipstick['priceCatgry'])"
   ]
  },
  {
   "cell_type": "markdown",
   "id": "279e1974-b04e-4285-bddc-8ed7233e93f6",
   "metadata": {},
   "source": [
    "## Independent Chi-Square"
   ]
  },
  {
   "cell_type": "code",
   "execution_count": 12,
   "id": "1dc7262e-6629-4007-b8aa-605bb9e29892",
   "metadata": {},
   "outputs": [
    {
     "data": {
      "text/plain": [
       "(7.860569553614045,\n",
       " 0.2484973879479863,\n",
       " 6,\n",
       " array([[14.26008969, 36.32286996,  9.41704036],\n",
       "        [19.25112108, 49.03587444, 12.71300448],\n",
       "        [ 8.79372197, 22.39910314,  5.80717489],\n",
       "        [10.69506726, 27.24215247,  7.06278027]]))"
      ]
     },
     "execution_count": 12,
     "metadata": {},
     "output_type": "execute_result"
    }
   ],
   "source": [
    "stats.chi2_contingency(lipstick2_crosstab)"
   ]
  },
  {
   "cell_type": "code",
   "execution_count": null,
   "id": "943f6c21-d2dc-4b9e-896f-b4f09589f041",
   "metadata": {},
   "outputs": [],
   "source": []
  }
 ],
 "metadata": {
  "kernelspec": {
   "display_name": "Python 3 (ipykernel)",
   "language": "python",
   "name": "python3"
  },
  "language_info": {
   "codemirror_mode": {
    "name": "ipython",
    "version": 3
   },
   "file_extension": ".py",
   "mimetype": "text/x-python",
   "name": "python",
   "nbconvert_exporter": "python",
   "pygments_lexer": "ipython3",
   "version": "3.9.10"
  }
 },
 "nbformat": 4,
 "nbformat_minor": 5
}
