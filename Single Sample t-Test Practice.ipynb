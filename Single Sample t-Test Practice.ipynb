{
 "cells": [
  {
   "cell_type": "markdown",
   "id": "ced8174e-8c0a-4811-96e3-c0a0c3dbaea0",
   "metadata": {},
   "source": [
    "## Single Sample t-Test"
   ]
  },
  {
   "cell_type": "markdown",
   "id": "19d4ae37-8ead-49bb-ae32-68a79e30aa92",
   "metadata": {},
   "source": [
    "## Import Packages"
   ]
  },
  {
   "cell_type": "code",
   "execution_count": 1,
   "id": "dece9e05-6151-425d-b327-2a426624a71a",
   "metadata": {},
   "outputs": [],
   "source": [
    "import pandas as pd\n",
    "import numpy as np\n",
    "from scipy.stats import norm\n",
    "from scipy import stats"
   ]
  },
  {
   "cell_type": "markdown",
   "id": "e4ab39a3-2fe2-4198-98a4-27b13655d99b",
   "metadata": {},
   "source": [
    "## Import Data"
   ]
  },
  {
   "cell_type": "code",
   "execution_count": 2,
   "id": "5be4c675-a95f-4dfb-a8bb-34b333786508",
   "metadata": {},
   "outputs": [],
   "source": [
    "hybrid2013 = pd.read_excel(\"/Users/kenyashiafernandez/Documents/GitHub/DS-Student-Resources/DS104-Data-Wrangling-and-Visualization/Data/hybrid2013.xlsx\")"
   ]
  },
  {
   "cell_type": "markdown",
   "id": "61d007b3-84bb-4811-9e55-c04b330888ae",
   "metadata": {},
   "source": [
    "## Test Assumptions"
   ]
  },
  {
   "cell_type": "code",
   "execution_count": 3,
   "id": "7692963d-661f-4260-96dd-109afafa28f1",
   "metadata": {},
   "outputs": [
    {
     "data": {
      "text/plain": [
       "<AxesSubplot:>"
      ]
     },
     "execution_count": 3,
     "metadata": {},
     "output_type": "execute_result"
    },
    {
     "data": {
      "image/png": "[encoded data removed]",
      "text/plain": [
       "<Figure size 432x288 with 1 Axes>"
      ]
     },
     "metadata": {
      "needs_background": "light"
     },
     "output_type": "display_data"
    }
   ],
   "source": [
    "hybrid2013['msrp'].hist()"
   ]
  },
  {
   "cell_type": "markdown",
   "id": "162c97c1-bf3d-42ac-a0d4-a0e24daf4aa3",
   "metadata": {},
   "source": [
    "## Run the Analysis "
   ]
  },
  {
   "cell_type": "code",
   "execution_count": 4,
   "id": "b101cc35-b507-4119-8d95-0551ae378e19",
   "metadata": {},
   "outputs": [
    {
     "data": {
      "text/plain": [
       "Ttest_1sampResult(statistic=6.003733172775179, pvalue=3.9231807518835515e-07)"
      ]
     },
     "execution_count": 4,
     "metadata": {},
     "output_type": "execute_result"
    }
   ],
   "source": [
    "stats.ttest_1samp(hybrid2013['msrp'], 25000)"
   ]
  },
  {
   "cell_type": "code",
   "execution_count": 5,
   "id": "516718e1-8034-4087-bd24-cc8709451dcd",
   "metadata": {},
   "outputs": [
    {
     "data": {
      "text/plain": [
       "42943.48837209302"
      ]
     },
     "execution_count": 5,
     "metadata": {},
     "output_type": "execute_result"
    }
   ],
   "source": [
    "hybrid2013.msrp.mean()"
   ]
  },
  {
   "cell_type": "code",
   "execution_count": null,
   "id": "6490ab7b-c6c3-431b-92c3-57349f2b92be",
   "metadata": {},
   "outputs": [],
   "source": []
  }
 ],
 "metadata": {
  "kernelspec": {
   "display_name": "Python 3 (ipykernel)",
   "language": "python",
   "name": "python3"
  },
  "language_info": {
   "codemirror_mode": {
    "name": "ipython",
    "version": 3
   },
   "file_extension": ".py",
   "mimetype": "text/x-python",
   "name": "python",
   "nbconvert_exporter": "python",
   "pygments_lexer": "ipython3",
   "version": "3.9.10"
  }
 },
 "nbformat": 4,
 "nbformat_minor": 5
}
